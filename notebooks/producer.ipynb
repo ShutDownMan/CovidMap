{
 "cells": [
  {
   "cell_type": "markdown",
   "metadata": {},
   "source": [
    "# Data Producer for Covitext API"
   ]
  },
  {
   "cell_type": "markdown",
   "metadata": {},
   "source": [
    "## Setup"
   ]
  },
  {
   "cell_type": "code",
   "execution_count": 1,
   "metadata": {},
   "outputs": [],
   "source": [
    "import requests\n",
    "import glob\n",
    "import json\n",
    "\n",
    "# parameters\n",
    "data_path = './../data/'\n",
    "api_url = 'http://localhost:8000'\n"
   ]
  },
  {
   "cell_type": "markdown",
   "metadata": {},
   "source": [
    "### Get all json paths"
   ]
  },
  {
   "cell_type": "code",
   "execution_count": 2,
   "metadata": {},
   "outputs": [
    {
     "data": {
      "text/plain": [
       "716956"
      ]
     },
     "execution_count": 2,
     "metadata": {},
     "output_type": "execute_result"
    }
   ],
   "source": [
    "# list of the paths of all jsons\n",
    "all_json_paths = glob.glob(f'{data_path}/documents/**/*.json', recursive=True)\n",
    "\n",
    "len(all_json_paths)\n"
   ]
  },
  {
   "cell_type": "markdown",
   "metadata": {},
   "source": [
    "### Process and post document snippets"
   ]
  },
  {
   "cell_type": "code",
   "execution_count": 3,
   "metadata": {},
   "outputs": [],
   "source": [
    "class Document:\n",
    "    paper_id: str = ''\n",
    "    title: str = ''\n",
    "    abstract: list[str] = []\n",
    "    body_text: list[str] = []\n",
    "\n",
    "    def __init__(self, paper_id):\n",
    "        self.paper_id = paper_id\n",
    "\n",
    "    def __repr__(self):\n",
    "        return f'[{self.paper_id}] \\'{self.title}\\': {self.abstract}...'\n"
   ]
  },
  {
   "cell_type": "code",
   "execution_count": 4,
   "metadata": {},
   "outputs": [],
   "source": [
    "\n",
    "def post_snippet(paper_id: str, text: str, text_type: str):\n",
    "    try:\n",
    "        res = requests.post(f\"{api_url}/api/document/snippet\",\n",
    "                            json={'paper_id': paper_id, 'text': text, 'text_type': text_type})\n",
    "\n",
    "    except Exception as e:\n",
    "        print('error when trying to post', paper_id)\n",
    "        print(e)\n",
    "\n",
    "def post_document(document: Document):\n",
    "    post_snippet(document.paper_id, document.title, 'title')\n",
    "\n",
    "    for paragraph in document.abstract:\n",
    "        post_snippet(document.paper_id, paragraph, 'abstract')\n",
    "\n",
    "    for paragraph in document.body_text:\n",
    "        post_snippet(document.paper_id, paragraph, 'body_text')\n",
    "\n",
    "    print(f'{document.paper_id}:')\n",
    "\n",
    "def iterate_json_paths():\n",
    "    for json_path in all_json_paths:\n",
    "        with open(json_path) as json_file:\n",
    "            json_data = json.load(json_file)\n",
    "\n",
    "            if not 'paper_id' in json_data:\n",
    "                print(f\"Current document has no id!\")\n",
    "                continue\n",
    "\n",
    "            current_doc = Document(paper_id=json_data['paper_id'])\n",
    "\n",
    "            if 'title' in json_data:\n",
    "                current_doc.title = json_data['title']\n",
    "\n",
    "            if 'abstract' in json_data:\n",
    "                for paragraph in json_data['abstract']:\n",
    "                    current_doc.abstract.append(paragraph[\"text\"])\n",
    "\n",
    "            if 'body_text' in json_data:\n",
    "                for paragraph in json_data['body_text']:\n",
    "                    current_doc.body_text.append(paragraph[\"text\"])\n",
    "\n",
    "            post_document(current_doc)\n"
   ]
  },
  {
   "cell_type": "code",
   "execution_count": 5,
   "metadata": {},
   "outputs": [
    {
     "name": "stdout",
     "output_type": "stream",
     "text": [
      "PMC8230242:\n",
      "PMC7324312:\n",
      "PMC7706756:\n",
      "PMC8944676:\n",
      "PMC8645973:\n",
      "PMC8618802:\n",
      "PMC9010243:\n",
      "PMC3610377:\n",
      "PMC8831017:\n",
      "PMC9009978:\n",
      "PMC545201:\n",
      "PMC8758950:\n",
      "PMC3161824:\n",
      "PMC8926542:\n",
      "PMC7223598:\n",
      "PMC8035790:\n",
      "PMC8403254:\n",
      "PMC7978470:\n",
      "PMC7848879:\n",
      "PMC8077985:\n",
      "PMC7885137:\n",
      "PMC8500192:\n",
      "PMC8330176:\n",
      "PMC8237772:\n"
     ]
    }
   ],
   "source": [
    "iterate_json_paths()"
   ]
  }
 ],
 "metadata": {
  "kernelspec": {
   "display_name": "Python 3.10.4 ('context-venv')",
   "language": "python",
   "name": "python3"
  },
  "language_info": {
   "codemirror_mode": {
    "name": "ipython",
    "version": 3
   },
   "file_extension": ".py",
   "mimetype": "text/x-python",
   "name": "python",
   "nbconvert_exporter": "python",
   "pygments_lexer": "ipython3",
   "version": "3.10.5"
  },
  "orig_nbformat": 4,
  "vscode": {
   "interpreter": {
    "hash": "08683d02556133422f7510952eb8e29b648de3882b0c7d980c078830c068e2d6"
   }
  }
 },
 "nbformat": 4,
 "nbformat_minor": 2
}
